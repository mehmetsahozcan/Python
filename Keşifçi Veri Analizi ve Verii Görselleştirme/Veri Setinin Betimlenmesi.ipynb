{
 "cells": [
  {
   "cell_type": "code",
   "execution_count": 1,
   "metadata": {},
   "outputs": [],
   "source": [
    "import pandas as pd\n",
    "import seaborn as sns"
   ]
  },
  {
   "cell_type": "code",
   "execution_count": 3,
   "metadata": {},
   "outputs": [],
   "source": [
    "result = pd.read_excel(\"C:/Users/ozcan/Desktop/dataset.xlsx\")\n",
    "df = result.copy()"
   ]
  },
  {
   "cell_type": "code",
   "execution_count": 4,
   "metadata": {},
   "outputs": [
    {
     "data": {
      "text/html": [
       "<div>\n",
       "<style scoped>\n",
       "    .dataframe tbody tr th:only-of-type {\n",
       "        vertical-align: middle;\n",
       "    }\n",
       "\n",
       "    .dataframe tbody tr th {\n",
       "        vertical-align: top;\n",
       "    }\n",
       "\n",
       "    .dataframe thead th {\n",
       "        text-align: right;\n",
       "    }\n",
       "</style>\n",
       "<table border=\"1\" class=\"dataframe\">\n",
       "  <thead>\n",
       "    <tr style=\"text-align: right;\">\n",
       "      <th></th>\n",
       "      <th>yaş</th>\n",
       "      <th>cinsiyet</th>\n",
       "      <th>göğüsağrısı</th>\n",
       "      <th>kanbasıncı</th>\n",
       "      <th>kolestrol</th>\n",
       "      <th>kanşsekeri</th>\n",
       "      <th>kalpatıs</th>\n",
       "      <th>hedef</th>\n",
       "    </tr>\n",
       "  </thead>\n",
       "  <tbody>\n",
       "    <tr>\n",
       "      <th>0</th>\n",
       "      <td>52</td>\n",
       "      <td>Erkek</td>\n",
       "      <td>ASYMPTOMATIC</td>\n",
       "      <td>125</td>\n",
       "      <td>212</td>\n",
       "      <td>&lt;=120</td>\n",
       "      <td>168</td>\n",
       "      <td>Hayır</td>\n",
       "    </tr>\n",
       "    <tr>\n",
       "      <th>1</th>\n",
       "      <td>53</td>\n",
       "      <td>Erkek</td>\n",
       "      <td>ASYMPTOMATIC</td>\n",
       "      <td>140</td>\n",
       "      <td>203</td>\n",
       "      <td>&gt;120</td>\n",
       "      <td>155</td>\n",
       "      <td>Hayır</td>\n",
       "    </tr>\n",
       "    <tr>\n",
       "      <th>2</th>\n",
       "      <td>70</td>\n",
       "      <td>Erkek</td>\n",
       "      <td>ASYMPTOMATIC</td>\n",
       "      <td>145</td>\n",
       "      <td>174</td>\n",
       "      <td>&lt;=120</td>\n",
       "      <td>125</td>\n",
       "      <td>Hayır</td>\n",
       "    </tr>\n",
       "    <tr>\n",
       "      <th>3</th>\n",
       "      <td>61</td>\n",
       "      <td>Erkek</td>\n",
       "      <td>ASYMPTOMATIC</td>\n",
       "      <td>148</td>\n",
       "      <td>203</td>\n",
       "      <td>&lt;=120</td>\n",
       "      <td>161</td>\n",
       "      <td>Hayır</td>\n",
       "    </tr>\n",
       "    <tr>\n",
       "      <th>4</th>\n",
       "      <td>62</td>\n",
       "      <td>Kadın</td>\n",
       "      <td>ASYMPTOMATIC</td>\n",
       "      <td>138</td>\n",
       "      <td>294</td>\n",
       "      <td>&gt;120</td>\n",
       "      <td>106</td>\n",
       "      <td>Hayır</td>\n",
       "    </tr>\n",
       "  </tbody>\n",
       "</table>\n",
       "</div>"
      ],
      "text/plain": [
       "   yaş cinsiyet   göğüsağrısı  kanbasıncı  kolestrol kanşsekeri  kalpatıs  \\\n",
       "0   52    Erkek  ASYMPTOMATIC         125        212      <=120       168   \n",
       "1   53    Erkek  ASYMPTOMATIC         140        203       >120       155   \n",
       "2   70    Erkek  ASYMPTOMATIC         145        174      <=120       125   \n",
       "3   61    Erkek  ASYMPTOMATIC         148        203      <=120       161   \n",
       "4   62    Kadın  ASYMPTOMATIC         138        294       >120       106   \n",
       "\n",
       "   hedef  \n",
       "0  Hayır  \n",
       "1  Hayır  \n",
       "2  Hayır  \n",
       "3  Hayır  \n",
       "4  Hayır  "
      ]
     },
     "execution_count": 4,
     "metadata": {},
     "output_type": "execute_result"
    }
   ],
   "source": [
    "df.head()"
   ]
  },
  {
   "cell_type": "code",
   "execution_count": 8,
   "metadata": {},
   "outputs": [
    {
     "data": {
      "text/plain": [
       "(1014, 8)"
      ]
     },
     "execution_count": 8,
     "metadata": {},
     "output_type": "execute_result"
    }
   ],
   "source": [
    "df.shape #Gözlem boyutu ve değişken sayısı"
   ]
  },
  {
   "cell_type": "code",
   "execution_count": 9,
   "metadata": {},
   "outputs": [
    {
     "data": {
      "text/plain": [
       "Index(['yaş', 'cinsiyet', 'göğüsağrısı', 'kanbasıncı', 'kolestrol',\n",
       "       'kanşsekeri', 'kalpatıs', 'hedef'],\n",
       "      dtype='object')"
      ]
     },
     "execution_count": 9,
     "metadata": {},
     "output_type": "execute_result"
    }
   ],
   "source": [
    "df.columns # değişken isimleri"
   ]
  },
  {
   "cell_type": "code",
   "execution_count": 12,
   "metadata": {},
   "outputs": [
    {
     "data": {
      "text/html": [
       "<div>\n",
       "<style scoped>\n",
       "    .dataframe tbody tr th:only-of-type {\n",
       "        vertical-align: middle;\n",
       "    }\n",
       "\n",
       "    .dataframe tbody tr th {\n",
       "        vertical-align: top;\n",
       "    }\n",
       "\n",
       "    .dataframe thead th {\n",
       "        text-align: right;\n",
       "    }\n",
       "</style>\n",
       "<table border=\"1\" class=\"dataframe\">\n",
       "  <thead>\n",
       "    <tr style=\"text-align: right;\">\n",
       "      <th></th>\n",
       "      <th>count</th>\n",
       "      <th>mean</th>\n",
       "      <th>std</th>\n",
       "      <th>min</th>\n",
       "      <th>25%</th>\n",
       "      <th>50%</th>\n",
       "      <th>75%</th>\n",
       "      <th>max</th>\n",
       "    </tr>\n",
       "  </thead>\n",
       "  <tbody>\n",
       "    <tr>\n",
       "      <th>yaş</th>\n",
       "      <td>1014.0</td>\n",
       "      <td>54.388560</td>\n",
       "      <td>9.094378</td>\n",
       "      <td>29.0</td>\n",
       "      <td>47.25</td>\n",
       "      <td>56.0</td>\n",
       "      <td>61.0</td>\n",
       "      <td>77.0</td>\n",
       "    </tr>\n",
       "    <tr>\n",
       "      <th>kanbasıncı</th>\n",
       "      <td>1014.0</td>\n",
       "      <td>131.218935</td>\n",
       "      <td>16.729761</td>\n",
       "      <td>94.0</td>\n",
       "      <td>120.00</td>\n",
       "      <td>130.0</td>\n",
       "      <td>140.0</td>\n",
       "      <td>180.0</td>\n",
       "    </tr>\n",
       "    <tr>\n",
       "      <th>kolestrol</th>\n",
       "      <td>1014.0</td>\n",
       "      <td>244.730769</td>\n",
       "      <td>48.741167</td>\n",
       "      <td>126.0</td>\n",
       "      <td>211.00</td>\n",
       "      <td>239.0</td>\n",
       "      <td>274.0</td>\n",
       "      <td>417.0</td>\n",
       "    </tr>\n",
       "    <tr>\n",
       "      <th>kalpatıs</th>\n",
       "      <td>1014.0</td>\n",
       "      <td>148.988166</td>\n",
       "      <td>22.954521</td>\n",
       "      <td>71.0</td>\n",
       "      <td>132.00</td>\n",
       "      <td>152.0</td>\n",
       "      <td>166.0</td>\n",
       "      <td>202.0</td>\n",
       "    </tr>\n",
       "  </tbody>\n",
       "</table>\n",
       "</div>"
      ],
      "text/plain": [
       "             count        mean        std    min     25%    50%    75%    max\n",
       "yaş         1014.0   54.388560   9.094378   29.0   47.25   56.0   61.0   77.0\n",
       "kanbasıncı  1014.0  131.218935  16.729761   94.0  120.00  130.0  140.0  180.0\n",
       "kolestrol   1014.0  244.730769  48.741167  126.0  211.00  239.0  274.0  417.0\n",
       "kalpatıs    1014.0  148.988166  22.954521   71.0  132.00  152.0  166.0  202.0"
      ]
     },
     "execution_count": 12,
     "metadata": {},
     "output_type": "execute_result"
    }
   ],
   "source": [
    "df.describe().T #Eksik gözlemleri göz ardı eder ve kategorik değişkenleri dışarıda bırakır"
   ]
  }
 ],
 "metadata": {
  "kernelspec": {
   "display_name": "Python 3",
   "language": "python",
   "name": "python3"
  },
  "language_info": {
   "codemirror_mode": {
    "name": "ipython",
    "version": 3
   },
   "file_extension": ".py",
   "mimetype": "text/x-python",
   "name": "python",
   "nbconvert_exporter": "python",
   "pygments_lexer": "ipython3",
   "version": "3.8.5"
  }
 },
 "nbformat": 4,
 "nbformat_minor": 4
}
