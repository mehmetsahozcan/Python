{
 "cells": [
  {
   "cell_type": "code",
   "execution_count": 1,
   "metadata": {},
   "outputs": [],
   "source": [
    "import pandas as pd"
   ]
  },
  {
   "cell_type": "code",
   "execution_count": 3,
   "metadata": {},
   "outputs": [
    {
     "data": {
      "text/html": [
       "<div>\n",
       "<style scoped>\n",
       "    .dataframe tbody tr th:only-of-type {\n",
       "        vertical-align: middle;\n",
       "    }\n",
       "\n",
       "    .dataframe tbody tr th {\n",
       "        vertical-align: top;\n",
       "    }\n",
       "\n",
       "    .dataframe thead th {\n",
       "        text-align: right;\n",
       "    }\n",
       "</style>\n",
       "<table border=\"1\" class=\"dataframe\">\n",
       "  <thead>\n",
       "    <tr style=\"text-align: right;\">\n",
       "      <th></th>\n",
       "      <th>yaş</th>\n",
       "      <th>cinsiyet</th>\n",
       "      <th>göğüsağrısı</th>\n",
       "      <th>kanbasıncı</th>\n",
       "      <th>kolestrol</th>\n",
       "      <th>kanşsekeri</th>\n",
       "      <th>kalpatıs</th>\n",
       "      <th>hedef</th>\n",
       "    </tr>\n",
       "  </thead>\n",
       "  <tbody>\n",
       "    <tr>\n",
       "      <th>0</th>\n",
       "      <td>52</td>\n",
       "      <td>Erkek</td>\n",
       "      <td>ASYMPTOMATIC</td>\n",
       "      <td>125</td>\n",
       "      <td>212</td>\n",
       "      <td>&lt;=120</td>\n",
       "      <td>168</td>\n",
       "      <td>Hayır</td>\n",
       "    </tr>\n",
       "    <tr>\n",
       "      <th>1</th>\n",
       "      <td>53</td>\n",
       "      <td>Erkek</td>\n",
       "      <td>ASYMPTOMATIC</td>\n",
       "      <td>140</td>\n",
       "      <td>203</td>\n",
       "      <td>&gt;120</td>\n",
       "      <td>155</td>\n",
       "      <td>Hayır</td>\n",
       "    </tr>\n",
       "    <tr>\n",
       "      <th>2</th>\n",
       "      <td>70</td>\n",
       "      <td>Erkek</td>\n",
       "      <td>ASYMPTOMATIC</td>\n",
       "      <td>145</td>\n",
       "      <td>174</td>\n",
       "      <td>&lt;=120</td>\n",
       "      <td>125</td>\n",
       "      <td>Hayır</td>\n",
       "    </tr>\n",
       "    <tr>\n",
       "      <th>3</th>\n",
       "      <td>61</td>\n",
       "      <td>Erkek</td>\n",
       "      <td>ASYMPTOMATIC</td>\n",
       "      <td>148</td>\n",
       "      <td>203</td>\n",
       "      <td>&lt;=120</td>\n",
       "      <td>161</td>\n",
       "      <td>Hayır</td>\n",
       "    </tr>\n",
       "    <tr>\n",
       "      <th>4</th>\n",
       "      <td>62</td>\n",
       "      <td>Kadın</td>\n",
       "      <td>ASYMPTOMATIC</td>\n",
       "      <td>138</td>\n",
       "      <td>294</td>\n",
       "      <td>&gt;120</td>\n",
       "      <td>106</td>\n",
       "      <td>Hayır</td>\n",
       "    </tr>\n",
       "  </tbody>\n",
       "</table>\n",
       "</div>"
      ],
      "text/plain": [
       "   yaş cinsiyet   göğüsağrısı  kanbasıncı  kolestrol kanşsekeri  kalpatıs  \\\n",
       "0   52    Erkek  ASYMPTOMATIC         125        212      <=120       168   \n",
       "1   53    Erkek  ASYMPTOMATIC         140        203       >120       155   \n",
       "2   70    Erkek  ASYMPTOMATIC         145        174      <=120       125   \n",
       "3   61    Erkek  ASYMPTOMATIC         148        203      <=120       161   \n",
       "4   62    Kadın  ASYMPTOMATIC         138        294       >120       106   \n",
       "\n",
       "   hedef  \n",
       "0  Hayır  \n",
       "1  Hayır  \n",
       "2  Hayır  \n",
       "3  Hayır  \n",
       "4  Hayır  "
      ]
     },
     "execution_count": 3,
     "metadata": {},
     "output_type": "execute_result"
    }
   ],
   "source": [
    "result = pd.read_excel(\"C:/Users/ozcan/Desktop/dataset.xlsx\")\n",
    "df = result.copy()\n",
    "df.head()"
   ]
  },
  {
   "cell_type": "markdown",
   "metadata": {},
   "source": [
    "Sadece Kategorik Değişkenler ve Özetleri"
   ]
  },
  {
   "cell_type": "code",
   "execution_count": 4,
   "metadata": {},
   "outputs": [],
   "source": [
    "kat_df = df.select_dtypes( include = [\"object\"]) #DataFramelerin içerisinden istediğimiz veri tipini çekmemeizi sağlar"
   ]
  },
  {
   "cell_type": "code",
   "execution_count": 5,
   "metadata": {},
   "outputs": [
    {
     "data": {
      "text/html": [
       "<div>\n",
       "<style scoped>\n",
       "    .dataframe tbody tr th:only-of-type {\n",
       "        vertical-align: middle;\n",
       "    }\n",
       "\n",
       "    .dataframe tbody tr th {\n",
       "        vertical-align: top;\n",
       "    }\n",
       "\n",
       "    .dataframe thead th {\n",
       "        text-align: right;\n",
       "    }\n",
       "</style>\n",
       "<table border=\"1\" class=\"dataframe\">\n",
       "  <thead>\n",
       "    <tr style=\"text-align: right;\">\n",
       "      <th></th>\n",
       "      <th>cinsiyet</th>\n",
       "      <th>göğüsağrısı</th>\n",
       "      <th>kanşsekeri</th>\n",
       "      <th>hedef</th>\n",
       "    </tr>\n",
       "  </thead>\n",
       "  <tbody>\n",
       "    <tr>\n",
       "      <th>0</th>\n",
       "      <td>Erkek</td>\n",
       "      <td>ASYMPTOMATIC</td>\n",
       "      <td>&lt;=120</td>\n",
       "      <td>Hayır</td>\n",
       "    </tr>\n",
       "    <tr>\n",
       "      <th>1</th>\n",
       "      <td>Erkek</td>\n",
       "      <td>ASYMPTOMATIC</td>\n",
       "      <td>&gt;120</td>\n",
       "      <td>Hayır</td>\n",
       "    </tr>\n",
       "    <tr>\n",
       "      <th>2</th>\n",
       "      <td>Erkek</td>\n",
       "      <td>ASYMPTOMATIC</td>\n",
       "      <td>&lt;=120</td>\n",
       "      <td>Hayır</td>\n",
       "    </tr>\n",
       "    <tr>\n",
       "      <th>3</th>\n",
       "      <td>Erkek</td>\n",
       "      <td>ASYMPTOMATIC</td>\n",
       "      <td>&lt;=120</td>\n",
       "      <td>Hayır</td>\n",
       "    </tr>\n",
       "    <tr>\n",
       "      <th>4</th>\n",
       "      <td>Kadın</td>\n",
       "      <td>ASYMPTOMATIC</td>\n",
       "      <td>&gt;120</td>\n",
       "      <td>Hayır</td>\n",
       "    </tr>\n",
       "  </tbody>\n",
       "</table>\n",
       "</div>"
      ],
      "text/plain": [
       "  cinsiyet   göğüsağrısı kanşsekeri  hedef\n",
       "0    Erkek  ASYMPTOMATIC      <=120  Hayır\n",
       "1    Erkek  ASYMPTOMATIC       >120  Hayır\n",
       "2    Erkek  ASYMPTOMATIC      <=120  Hayır\n",
       "3    Erkek  ASYMPTOMATIC      <=120  Hayır\n",
       "4    Kadın  ASYMPTOMATIC       >120  Hayır"
      ]
     },
     "execution_count": 5,
     "metadata": {},
     "output_type": "execute_result"
    }
   ],
   "source": [
    "kat_df.head()"
   ]
  },
  {
   "cell_type": "markdown",
   "metadata": {},
   "source": [
    "Kategorik Değişkenin Sınıflarına ve Sınıf Sayısına Erişmek"
   ]
  },
  {
   "cell_type": "code",
   "execution_count": 7,
   "metadata": {},
   "outputs": [
    {
     "data": {
      "text/plain": [
       "array(['Erkek', 'Kadın'], dtype=object)"
      ]
     },
     "execution_count": 7,
     "metadata": {},
     "output_type": "execute_result"
    }
   ],
   "source": [
    "kat_df.cinsiyet.unique()"
   ]
  },
  {
   "cell_type": "code",
   "execution_count": 9,
   "metadata": {},
   "outputs": [
    {
     "data": {
      "text/plain": [
       "2"
      ]
     },
     "execution_count": 9,
     "metadata": {},
     "output_type": "execute_result"
    }
   ],
   "source": [
    "kat_df[\"cinsiyet\"].value_counts().count() #Burada cin siyet değişkeninin sınıflarına ve kaç sınıf olduğunu gördük."
   ]
  },
  {
   "cell_type": "code",
   "execution_count": 11,
   "metadata": {},
   "outputs": [
    {
     "data": {
      "text/plain": [
       "array(['ASYMPTOMATIC', 'ATYPICAL ANGINA', 'NON-ANGINAL PAIN'],\n",
       "      dtype=object)"
      ]
     },
     "execution_count": 11,
     "metadata": {},
     "output_type": "execute_result"
    }
   ],
   "source": [
    "kat_df.göğüsağrısı.unique()"
   ]
  },
  {
   "cell_type": "code",
   "execution_count": 12,
   "metadata": {},
   "outputs": [
    {
     "data": {
      "text/plain": [
       "3"
      ]
     },
     "execution_count": 12,
     "metadata": {},
     "output_type": "execute_result"
    }
   ],
   "source": [
    "kat_df[\"göğüsağrısı\"].value_counts().count()"
   ]
  },
  {
   "cell_type": "markdown",
   "metadata": {},
   "source": [
    "Kategorik Değişkenin Sınıflarının Frekanslarına Erişmek"
   ]
  },
  {
   "cell_type": "code",
   "execution_count": 15,
   "metadata": {},
   "outputs": [
    {
     "data": {
      "text/plain": [
       "Erkek    709\n",
       "Kadın    305\n",
       "Name: cinsiyet, dtype: int64"
      ]
     },
     "execution_count": 15,
     "metadata": {},
     "output_type": "execute_result"
    }
   ],
   "source": [
    "kat_df[\"cinsiyet\"].value_counts() #Erkek ve kadın sayısını öğrenmiş olduk"
   ]
  },
  {
   "cell_type": "code",
   "execution_count": 16,
   "metadata": {},
   "outputs": [
    {
     "data": {
      "text/plain": [
       "ASYMPTOMATIC        569\n",
       "NON-ANGINAL PAIN    281\n",
       "ATYPICAL ANGINA     164\n",
       "Name: göğüsağrısı, dtype: int64"
      ]
     },
     "execution_count": 16,
     "metadata": {},
     "output_type": "execute_result"
    }
   ],
   "source": [
    "kat_df[\"göğüsağrısı\"].value_counts()"
   ]
  },
  {
   "cell_type": "code",
   "execution_count": 17,
   "metadata": {},
   "outputs": [
    {
     "data": {
      "text/plain": [
       "<=120    865\n",
       ">120     149\n",
       "Name: kanşsekeri, dtype: int64"
      ]
     },
     "execution_count": 17,
     "metadata": {},
     "output_type": "execute_result"
    }
   ],
   "source": [
    "kat_df[\"kanşsekeri\"].value_counts()"
   ]
  },
  {
   "cell_type": "code",
   "execution_count": 23,
   "metadata": {},
   "outputs": [
    {
     "data": {
      "text/plain": [
       "<AxesSubplot:>"
      ]
     },
     "execution_count": 23,
     "metadata": {},
     "output_type": "execute_result"
    },
    {
     "data": {
      "image/png": "[encoded data removed]",
      "text/plain": [
       "<Figure size 432x288 with 1 Axes>"
      ]
     },
     "metadata": {
      "needs_background": "light"
     },
     "output_type": "display_data"
    }
   ],
   "source": [
    "df[\"göğüsağrısı\"].value_counts().plot.barh() #grafik pandas kütüphanesinden"
   ]
  },
  {
   "cell_type": "code",
   "execution_count": 20,
   "metadata": {},
   "outputs": [
    {
     "data": {
      "text/plain": [
       "<AxesSubplot:>"
      ]
     },
     "execution_count": 20,
     "metadata": {},
     "output_type": "execute_result"
    },
    {
     "data": {
      "image/png": "[encoded data removed]",
      "text/plain": [
       "<Figure size 432x288 with 1 Axes>"
      ]
     },
     "metadata": {
      "needs_background": "light"
     },
     "output_type": "display_data"
    }
   ],
   "source": [
    "df[\"kanşsekeri\"].value_counts().plot.barh()"
   ]
  },
  {
   "cell_type": "code",
   "execution_count": 21,
   "metadata": {},
   "outputs": [
    {
     "data": {
      "text/plain": [
       "<AxesSubplot:>"
      ]
     },
     "execution_count": 21,
     "metadata": {},
     "output_type": "execute_result"
    },
    {
     "data": {
      "image/png": "[encoded data removed]",
      "text/plain": [
       "<Figure size 432x288 with 1 Axes>"
      ]
     },
     "metadata": {
      "needs_background": "light"
     },
     "output_type": "display_data"
    }
   ],
   "source": [
    "df[\"cinsiyet\"].value_counts().plot.barh()"
   ]
  },
  {
   "cell_type": "code",
   "execution_count": 22,
   "metadata": {},
   "outputs": [
    {
     "data": {
      "text/plain": [
       "<AxesSubplot:>"
      ]
     },
     "execution_count": 22,
     "metadata": {},
     "output_type": "execute_result"
    },
    {
     "data": {
      "image/png": "[encoded data removed]",
      "text/plain": [
       "<Figure size 432x288 with 1 Axes>"
      ]
     },
     "metadata": {
      "needs_background": "light"
     },
     "output_type": "display_data"
    }
   ],
   "source": [
    "df[\"hedef\"].value_counts().plot.barh()"
   ]
  },
  {
   "cell_type": "code",
   "execution_count": null,
   "metadata": {},
   "outputs": [],
   "source": []
  }
 ],
 "metadata": {
  "kernelspec": {
   "display_name": "Python 3",
   "language": "python",
   "name": "python3"
  },
  "language_info": {
   "codemirror_mode": {
    "name": "ipython",
    "version": 3
   },
   "file_extension": ".py",
   "mimetype": "text/x-python",
   "name": "python",
   "nbconvert_exporter": "python",
   "pygments_lexer": "ipython3",
   "version": "3.8.8"
  }
 },
 "nbformat": 4,
 "nbformat_minor": 4
}
