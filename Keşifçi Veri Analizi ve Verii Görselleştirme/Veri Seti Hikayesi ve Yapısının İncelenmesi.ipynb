{
 "cells": [
  {
   "cell_type": "markdown",
   "metadata": {},
   "source": [
    "### Veriye İlk  Bakış"
   ]
  },
  {
   "cell_type": "markdown",
   "metadata": {},
   "source": [
    "#### Veri Seti Hikayesi  ve Yapısının İncelenmesi"
   ]
  },
  {
   "cell_type": "code",
   "execution_count": 14,
   "metadata": {},
   "outputs": [
    {
     "data": {
      "text/html": [
       "<div>\n",
       "<style scoped>\n",
       "    .dataframe tbody tr th:only-of-type {\n",
       "        vertical-align: middle;\n",
       "    }\n",
       "\n",
       "    .dataframe tbody tr th {\n",
       "        vertical-align: top;\n",
       "    }\n",
       "\n",
       "    .dataframe thead th {\n",
       "        text-align: right;\n",
       "    }\n",
       "</style>\n",
       "<table border=\"1\" class=\"dataframe\">\n",
       "  <thead>\n",
       "    <tr style=\"text-align: right;\">\n",
       "      <th></th>\n",
       "      <th>yaş</th>\n",
       "      <th>cinsiyet</th>\n",
       "      <th>göğüsağrısı</th>\n",
       "      <th>kanbasıncı</th>\n",
       "      <th>kolestrol</th>\n",
       "      <th>kanşsekeri</th>\n",
       "      <th>kalpatıs</th>\n",
       "      <th>hedef</th>\n",
       "    </tr>\n",
       "  </thead>\n",
       "  <tbody>\n",
       "    <tr>\n",
       "      <th>0</th>\n",
       "      <td>52</td>\n",
       "      <td>Erkek</td>\n",
       "      <td>ASYMPTOMATIC</td>\n",
       "      <td>125</td>\n",
       "      <td>212</td>\n",
       "      <td>&lt;=120</td>\n",
       "      <td>168</td>\n",
       "      <td>Hayır</td>\n",
       "    </tr>\n",
       "    <tr>\n",
       "      <th>1</th>\n",
       "      <td>53</td>\n",
       "      <td>Erkek</td>\n",
       "      <td>ASYMPTOMATIC</td>\n",
       "      <td>140</td>\n",
       "      <td>203</td>\n",
       "      <td>&gt;120</td>\n",
       "      <td>155</td>\n",
       "      <td>Hayır</td>\n",
       "    </tr>\n",
       "    <tr>\n",
       "      <th>2</th>\n",
       "      <td>70</td>\n",
       "      <td>Erkek</td>\n",
       "      <td>ASYMPTOMATIC</td>\n",
       "      <td>145</td>\n",
       "      <td>174</td>\n",
       "      <td>&lt;=120</td>\n",
       "      <td>125</td>\n",
       "      <td>Hayır</td>\n",
       "    </tr>\n",
       "    <tr>\n",
       "      <th>3</th>\n",
       "      <td>61</td>\n",
       "      <td>Erkek</td>\n",
       "      <td>ASYMPTOMATIC</td>\n",
       "      <td>148</td>\n",
       "      <td>203</td>\n",
       "      <td>&lt;=120</td>\n",
       "      <td>161</td>\n",
       "      <td>Hayır</td>\n",
       "    </tr>\n",
       "    <tr>\n",
       "      <th>4</th>\n",
       "      <td>62</td>\n",
       "      <td>Kadın</td>\n",
       "      <td>ASYMPTOMATIC</td>\n",
       "      <td>138</td>\n",
       "      <td>294</td>\n",
       "      <td>&gt;120</td>\n",
       "      <td>106</td>\n",
       "      <td>Hayır</td>\n",
       "    </tr>\n",
       "  </tbody>\n",
       "</table>\n",
       "</div>"
      ],
      "text/plain": [
       "   yaş cinsiyet   göğüsağrısı  kanbasıncı  kolestrol kanşsekeri  kalpatıs  \\\n",
       "0   52    Erkek  ASYMPTOMATIC         125        212      <=120       168   \n",
       "1   53    Erkek  ASYMPTOMATIC         140        203       >120       155   \n",
       "2   70    Erkek  ASYMPTOMATIC         145        174      <=120       125   \n",
       "3   61    Erkek  ASYMPTOMATIC         148        203      <=120       161   \n",
       "4   62    Kadın  ASYMPTOMATIC         138        294       >120       106   \n",
       "\n",
       "   hedef  \n",
       "0  Hayır  \n",
       "1  Hayır  \n",
       "2  Hayır  \n",
       "3  Hayır  \n",
       "4  Hayır  "
      ]
     },
     "execution_count": 14,
     "metadata": {},
     "output_type": "execute_result"
    }
   ],
   "source": [
    "df = pd.read_excel(\"C:/Users/ozcan/Desktop/dataset.xlsx\")\n",
    "df.head()"
   ]
  },
  {
   "cell_type": "markdown",
   "metadata": {},
   "source": [
    "#### veri setinin hikayesi nedir?"
   ]
  },
  {
   "cell_type": "code",
   "execution_count": 16,
   "metadata": {},
   "outputs": [],
   "source": [
    "result = df.copy() #ilk olarak veriyi kopyala"
   ]
  },
  {
   "cell_type": "code",
   "execution_count": 17,
   "metadata": {},
   "outputs": [
    {
     "data": {
      "text/html": [
       "<div>\n",
       "<style scoped>\n",
       "    .dataframe tbody tr th:only-of-type {\n",
       "        vertical-align: middle;\n",
       "    }\n",
       "\n",
       "    .dataframe tbody tr th {\n",
       "        vertical-align: top;\n",
       "    }\n",
       "\n",
       "    .dataframe thead th {\n",
       "        text-align: right;\n",
       "    }\n",
       "</style>\n",
       "<table border=\"1\" class=\"dataframe\">\n",
       "  <thead>\n",
       "    <tr style=\"text-align: right;\">\n",
       "      <th></th>\n",
       "      <th>yaş</th>\n",
       "      <th>cinsiyet</th>\n",
       "      <th>göğüsağrısı</th>\n",
       "      <th>kanbasıncı</th>\n",
       "      <th>kolestrol</th>\n",
       "      <th>kanşsekeri</th>\n",
       "      <th>kalpatıs</th>\n",
       "      <th>hedef</th>\n",
       "    </tr>\n",
       "  </thead>\n",
       "  <tbody>\n",
       "    <tr>\n",
       "      <th>0</th>\n",
       "      <td>52</td>\n",
       "      <td>Erkek</td>\n",
       "      <td>ASYMPTOMATIC</td>\n",
       "      <td>125</td>\n",
       "      <td>212</td>\n",
       "      <td>&lt;=120</td>\n",
       "      <td>168</td>\n",
       "      <td>Hayır</td>\n",
       "    </tr>\n",
       "    <tr>\n",
       "      <th>1</th>\n",
       "      <td>53</td>\n",
       "      <td>Erkek</td>\n",
       "      <td>ASYMPTOMATIC</td>\n",
       "      <td>140</td>\n",
       "      <td>203</td>\n",
       "      <td>&gt;120</td>\n",
       "      <td>155</td>\n",
       "      <td>Hayır</td>\n",
       "    </tr>\n",
       "    <tr>\n",
       "      <th>2</th>\n",
       "      <td>70</td>\n",
       "      <td>Erkek</td>\n",
       "      <td>ASYMPTOMATIC</td>\n",
       "      <td>145</td>\n",
       "      <td>174</td>\n",
       "      <td>&lt;=120</td>\n",
       "      <td>125</td>\n",
       "      <td>Hayır</td>\n",
       "    </tr>\n",
       "    <tr>\n",
       "      <th>3</th>\n",
       "      <td>61</td>\n",
       "      <td>Erkek</td>\n",
       "      <td>ASYMPTOMATIC</td>\n",
       "      <td>148</td>\n",
       "      <td>203</td>\n",
       "      <td>&lt;=120</td>\n",
       "      <td>161</td>\n",
       "      <td>Hayır</td>\n",
       "    </tr>\n",
       "    <tr>\n",
       "      <th>4</th>\n",
       "      <td>62</td>\n",
       "      <td>Kadın</td>\n",
       "      <td>ASYMPTOMATIC</td>\n",
       "      <td>138</td>\n",
       "      <td>294</td>\n",
       "      <td>&gt;120</td>\n",
       "      <td>106</td>\n",
       "      <td>Hayır</td>\n",
       "    </tr>\n",
       "  </tbody>\n",
       "</table>\n",
       "</div>"
      ],
      "text/plain": [
       "   yaş cinsiyet   göğüsağrısı  kanbasıncı  kolestrol kanşsekeri  kalpatıs  \\\n",
       "0   52    Erkek  ASYMPTOMATIC         125        212      <=120       168   \n",
       "1   53    Erkek  ASYMPTOMATIC         140        203       >120       155   \n",
       "2   70    Erkek  ASYMPTOMATIC         145        174      <=120       125   \n",
       "3   61    Erkek  ASYMPTOMATIC         148        203      <=120       161   \n",
       "4   62    Kadın  ASYMPTOMATIC         138        294       >120       106   \n",
       "\n",
       "   hedef  \n",
       "0  Hayır  \n",
       "1  Hayır  \n",
       "2  Hayır  \n",
       "3  Hayır  \n",
       "4  Hayır  "
      ]
     },
     "execution_count": 17,
     "metadata": {},
     "output_type": "execute_result"
    }
   ],
   "source": [
    "result.head()"
   ]
  },
  {
   "cell_type": "code",
   "execution_count": 18,
   "metadata": {},
   "outputs": [
    {
     "data": {
      "text/html": [
       "<div>\n",
       "<style scoped>\n",
       "    .dataframe tbody tr th:only-of-type {\n",
       "        vertical-align: middle;\n",
       "    }\n",
       "\n",
       "    .dataframe tbody tr th {\n",
       "        vertical-align: top;\n",
       "    }\n",
       "\n",
       "    .dataframe thead th {\n",
       "        text-align: right;\n",
       "    }\n",
       "</style>\n",
       "<table border=\"1\" class=\"dataframe\">\n",
       "  <thead>\n",
       "    <tr style=\"text-align: right;\">\n",
       "      <th></th>\n",
       "      <th>yaş</th>\n",
       "      <th>cinsiyet</th>\n",
       "      <th>göğüsağrısı</th>\n",
       "      <th>kanbasıncı</th>\n",
       "      <th>kolestrol</th>\n",
       "      <th>kanşsekeri</th>\n",
       "      <th>kalpatıs</th>\n",
       "      <th>hedef</th>\n",
       "    </tr>\n",
       "  </thead>\n",
       "  <tbody>\n",
       "    <tr>\n",
       "      <th>1009</th>\n",
       "      <td>59</td>\n",
       "      <td>Erkek</td>\n",
       "      <td>ATYPICAL ANGINA</td>\n",
       "      <td>140</td>\n",
       "      <td>221</td>\n",
       "      <td>&lt;=120</td>\n",
       "      <td>164</td>\n",
       "      <td>Evet</td>\n",
       "    </tr>\n",
       "    <tr>\n",
       "      <th>1010</th>\n",
       "      <td>60</td>\n",
       "      <td>Erkek</td>\n",
       "      <td>ASYMPTOMATIC</td>\n",
       "      <td>125</td>\n",
       "      <td>258</td>\n",
       "      <td>&lt;=120</td>\n",
       "      <td>141</td>\n",
       "      <td>Hayır</td>\n",
       "    </tr>\n",
       "    <tr>\n",
       "      <th>1011</th>\n",
       "      <td>47</td>\n",
       "      <td>Erkek</td>\n",
       "      <td>ASYMPTOMATIC</td>\n",
       "      <td>110</td>\n",
       "      <td>275</td>\n",
       "      <td>&lt;=120</td>\n",
       "      <td>118</td>\n",
       "      <td>Hayır</td>\n",
       "    </tr>\n",
       "    <tr>\n",
       "      <th>1012</th>\n",
       "      <td>50</td>\n",
       "      <td>Kadın</td>\n",
       "      <td>ASYMPTOMATIC</td>\n",
       "      <td>110</td>\n",
       "      <td>254</td>\n",
       "      <td>&lt;=120</td>\n",
       "      <td>159</td>\n",
       "      <td>Evet</td>\n",
       "    </tr>\n",
       "    <tr>\n",
       "      <th>1013</th>\n",
       "      <td>54</td>\n",
       "      <td>Erkek</td>\n",
       "      <td>ASYMPTOMATIC</td>\n",
       "      <td>120</td>\n",
       "      <td>188</td>\n",
       "      <td>&lt;=120</td>\n",
       "      <td>113</td>\n",
       "      <td>Hayır</td>\n",
       "    </tr>\n",
       "  </tbody>\n",
       "</table>\n",
       "</div>"
      ],
      "text/plain": [
       "      yaş cinsiyet      göğüsağrısı  kanbasıncı  kolestrol kanşsekeri  \\\n",
       "1009   59    Erkek  ATYPICAL ANGINA         140        221      <=120   \n",
       "1010   60    Erkek     ASYMPTOMATIC         125        258      <=120   \n",
       "1011   47    Erkek     ASYMPTOMATIC         110        275      <=120   \n",
       "1012   50    Kadın     ASYMPTOMATIC         110        254      <=120   \n",
       "1013   54    Erkek     ASYMPTOMATIC         120        188      <=120   \n",
       "\n",
       "      kalpatıs  hedef  \n",
       "1009       164   Evet  \n",
       "1010       141  Hayır  \n",
       "1011       118  Hayır  \n",
       "1012       159   Evet  \n",
       "1013       113  Hayır  "
      ]
     },
     "execution_count": 18,
     "metadata": {},
     "output_type": "execute_result"
    }
   ],
   "source": [
    "result.tail()"
   ]
  },
  {
   "cell_type": "code",
   "execution_count": 19,
   "metadata": {},
   "outputs": [],
   "source": [
    "# veri seti yapısal  bilgileri"
   ]
  },
  {
   "cell_type": "code",
   "execution_count": 21,
   "metadata": {},
   "outputs": [
    {
     "name": "stdout",
     "output_type": "stream",
     "text": [
      "<class 'pandas.core.frame.DataFrame'>\n",
      "RangeIndex: 1014 entries, 0 to 1013\n",
      "Data columns (total 8 columns):\n",
      " #   Column       Non-Null Count  Dtype \n",
      "---  ------       --------------  ----- \n",
      " 0   yaş          1014 non-null   int64 \n",
      " 1   cinsiyet     1014 non-null   object\n",
      " 2   göğüsağrısı  1014 non-null   object\n",
      " 3   kanbasıncı   1014 non-null   int64 \n",
      " 4   kolestrol    1014 non-null   int64 \n",
      " 5   kanşsekeri   1014 non-null   object\n",
      " 6   kalpatıs     1014 non-null   int64 \n",
      " 7   hedef        1014 non-null   object\n",
      "dtypes: int64(4), object(4)\n",
      "memory usage: 63.5+ KB\n"
     ]
    }
   ],
   "source": [
    "result.info() #yapısal bilgileri verir"
   ]
  },
  {
   "cell_type": "code",
   "execution_count": 23,
   "metadata": {},
   "outputs": [
    {
     "data": {
      "text/plain": [
       "yaş             int64\n",
       "cinsiyet       object\n",
       "göğüsağrısı    object\n",
       "kanbasıncı      int64\n",
       "kolestrol       int64\n",
       "kanşsekeri     object\n",
       "kalpatıs        int64\n",
       "hedef          object\n",
       "dtype: object"
      ]
     },
     "execution_count": 23,
     "metadata": {},
     "output_type": "execute_result"
    }
   ],
   "source": [
    "result.dtypes"
   ]
  },
  {
   "cell_type": "code",
   "execution_count": 24,
   "metadata": {},
   "outputs": [],
   "source": [
    "# Objectleri kategotiğe dönüştürme işlemi"
   ]
  },
  {
   "cell_type": "code",
   "execution_count": 26,
   "metadata": {},
   "outputs": [],
   "source": [
    "result.cinsiyet = pd.Categorical(result.cinsiyet)\n",
    "result.göğüsağrısı = pd.Categorical(result.göğüsağrısı)\n",
    "result.kanşsekeri = pd.Categorical(result.kanşsekeri)\n",
    "result.hedef = pd.Categorical(result.hedef)"
   ]
  },
  {
   "cell_type": "code",
   "execution_count": 28,
   "metadata": {},
   "outputs": [
    {
     "data": {
      "text/plain": [
       "yaş               int64\n",
       "cinsiyet       category\n",
       "göğüsağrısı    category\n",
       "kanbasıncı        int64\n",
       "kolestrol         int64\n",
       "kanşsekeri     category\n",
       "kalpatıs          int64\n",
       "hedef          category\n",
       "dtype: object"
      ]
     },
     "execution_count": 28,
     "metadata": {},
     "output_type": "execute_result"
    }
   ],
   "source": [
    "result.dtypes"
   ]
  },
  {
   "cell_type": "code",
   "execution_count": 29,
   "metadata": {},
   "outputs": [
    {
     "data": {
      "text/html": [
       "<div>\n",
       "<style scoped>\n",
       "    .dataframe tbody tr th:only-of-type {\n",
       "        vertical-align: middle;\n",
       "    }\n",
       "\n",
       "    .dataframe tbody tr th {\n",
       "        vertical-align: top;\n",
       "    }\n",
       "\n",
       "    .dataframe thead th {\n",
       "        text-align: right;\n",
       "    }\n",
       "</style>\n",
       "<table border=\"1\" class=\"dataframe\">\n",
       "  <thead>\n",
       "    <tr style=\"text-align: right;\">\n",
       "      <th></th>\n",
       "      <th>yaş</th>\n",
       "      <th>cinsiyet</th>\n",
       "      <th>göğüsağrısı</th>\n",
       "      <th>kanbasıncı</th>\n",
       "      <th>kolestrol</th>\n",
       "      <th>kanşsekeri</th>\n",
       "      <th>kalpatıs</th>\n",
       "      <th>hedef</th>\n",
       "    </tr>\n",
       "  </thead>\n",
       "  <tbody>\n",
       "    <tr>\n",
       "      <th>0</th>\n",
       "      <td>52</td>\n",
       "      <td>Erkek</td>\n",
       "      <td>ASYMPTOMATIC</td>\n",
       "      <td>125</td>\n",
       "      <td>212</td>\n",
       "      <td>&lt;=120</td>\n",
       "      <td>168</td>\n",
       "      <td>Hayır</td>\n",
       "    </tr>\n",
       "    <tr>\n",
       "      <th>1</th>\n",
       "      <td>53</td>\n",
       "      <td>Erkek</td>\n",
       "      <td>ASYMPTOMATIC</td>\n",
       "      <td>140</td>\n",
       "      <td>203</td>\n",
       "      <td>&gt;120</td>\n",
       "      <td>155</td>\n",
       "      <td>Hayır</td>\n",
       "    </tr>\n",
       "    <tr>\n",
       "      <th>2</th>\n",
       "      <td>70</td>\n",
       "      <td>Erkek</td>\n",
       "      <td>ASYMPTOMATIC</td>\n",
       "      <td>145</td>\n",
       "      <td>174</td>\n",
       "      <td>&lt;=120</td>\n",
       "      <td>125</td>\n",
       "      <td>Hayır</td>\n",
       "    </tr>\n",
       "    <tr>\n",
       "      <th>3</th>\n",
       "      <td>61</td>\n",
       "      <td>Erkek</td>\n",
       "      <td>ASYMPTOMATIC</td>\n",
       "      <td>148</td>\n",
       "      <td>203</td>\n",
       "      <td>&lt;=120</td>\n",
       "      <td>161</td>\n",
       "      <td>Hayır</td>\n",
       "    </tr>\n",
       "    <tr>\n",
       "      <th>4</th>\n",
       "      <td>62</td>\n",
       "      <td>Kadın</td>\n",
       "      <td>ASYMPTOMATIC</td>\n",
       "      <td>138</td>\n",
       "      <td>294</td>\n",
       "      <td>&gt;120</td>\n",
       "      <td>106</td>\n",
       "      <td>Hayır</td>\n",
       "    </tr>\n",
       "  </tbody>\n",
       "</table>\n",
       "</div>"
      ],
      "text/plain": [
       "   yaş cinsiyet   göğüsağrısı  kanbasıncı  kolestrol kanşsekeri  kalpatıs  \\\n",
       "0   52    Erkek  ASYMPTOMATIC         125        212      <=120       168   \n",
       "1   53    Erkek  ASYMPTOMATIC         140        203       >120       155   \n",
       "2   70    Erkek  ASYMPTOMATIC         145        174      <=120       125   \n",
       "3   61    Erkek  ASYMPTOMATIC         148        203      <=120       161   \n",
       "4   62    Kadın  ASYMPTOMATIC         138        294       >120       106   \n",
       "\n",
       "   hedef  \n",
       "0  Hayır  \n",
       "1  Hayır  \n",
       "2  Hayır  \n",
       "3  Hayır  \n",
       "4  Hayır  "
      ]
     },
     "execution_count": 29,
     "metadata": {},
     "output_type": "execute_result"
    }
   ],
   "source": [
    "result.head()"
   ]
  }
 ],
 "metadata": {
  "kernelspec": {
   "display_name": "Python 3",
   "language": "python",
   "name": "python3"
  },
  "language_info": {
   "codemirror_mode": {
    "name": "ipython",
    "version": 3
   },
   "file_extension": ".py",
   "mimetype": "text/x-python",
   "name": "python",
   "nbconvert_exporter": "python",
   "pygments_lexer": "ipython3",
   "version": "3.8.5"
  }
 },
 "nbformat": 4,
 "nbformat_minor": 4
}
